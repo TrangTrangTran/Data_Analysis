{
 "cells": [
  {
   "cell_type": "markdown",
   "id": "0a5e0f4f-1365-4593-85f5-da8875417f3d",
   "metadata": {},
   "source": [
    "# Cleaning Text Data"
   ]
  },
  {
   "cell_type": "code",
   "execution_count": 6,
   "id": "e3e77340-c414-4c5a-b1c9-aee56b4b26d9",
   "metadata": {},
   "outputs": [],
   "source": [
    "import pandas as pd\n",
    "import re"
   ]
  },
  {
   "cell_type": "code",
   "execution_count": 2,
   "id": "f0739ec6-7db3-48a9-9d22-a6abbc14a92e",
   "metadata": {},
   "outputs": [],
   "source": [
    "ramen_2020_rv=pd.read_csv('ramen_reviews.csv')"
   ]
  },
  {
   "cell_type": "code",
   "execution_count": 3,
   "id": "8438c385-7e93-4324-b841-43b7e9601c0e",
   "metadata": {},
   "outputs": [
    {
     "data": {
      "text/html": [
       "<div>\n",
       "<style scoped>\n",
       "    .dataframe tbody tr th:only-of-type {\n",
       "        vertical-align: middle;\n",
       "    }\n",
       "\n",
       "    .dataframe tbody tr th {\n",
       "        vertical-align: top;\n",
       "    }\n",
       "\n",
       "    .dataframe thead th {\n",
       "        text-align: right;\n",
       "    }\n",
       "</style>\n",
       "<table border=\"1\" class=\"dataframe\">\n",
       "  <thead>\n",
       "    <tr style=\"text-align: right;\">\n",
       "      <th></th>\n",
       "      <th>reviews</th>\n",
       "    </tr>\n",
       "  </thead>\n",
       "  <tbody>\n",
       "    <tr>\n",
       "      <th>0</th>\n",
       "      <td>['This is a brand new variety from Malsyai’s MyKuali. This company’s had three different varieties in the past end up on my global top ten rankings and after trying the vermicelli and cup versions, here we have the pack (you’ll see the other two in upcoming reviews. Let’s give it a try!', 'The noodle block.', 'A dry sachet of non-dairy creamer.', 'A wet paste sachet.', 'A clear dry garnish sachet.', '8-pack MyKuali/Malaysia Best Brand/Penang Prawn Noodle/Strong Prawn Flavor, Thick Hearty Broth Spicy Mouthfeel from Food Heaven, Penang Malaysia (105g/pack)', 'Watch me cook on Instant Noodle Recipe Time!']</td>\n",
       "    </tr>\n",
       "    <tr>\n",
       "      <th>1</th>\n",
       "      <td>['I gotta say, there have been a TON of new recipes for this instant noodle. I don’t know how many brands are changing recipes out there, but it’s nice to know when they do. This is something they do in Malaysia, specifically Penang, Malaysia, an awful lot. The folks at MyKuali told me how you might go to a hawker stall one day and have something really great and a week later it’s almost unrecognizable in hopes of having the next super popular food item. Food creators there never seem satisfied with ‘good enough.’ Let’s see what this iteration of the legendary MyKuali Penang White Curry Noodle has to offer.', 'The noodle block.', 'A dry soup base sachet.', 'A dry non-dairy creamer sachet.', 'The enormous white curry paste sachet.', 'MyKuali Penang White Curry Noodle (8 Packs)', 'Watch me cook on Instant Noodle Recipe Time!']</td>\n",
       "    </tr>\n",
       "    <tr>\n",
       "      <th>2</th>\n",
       "      <td>['I really love Taiwan. I have been through Taiwan a couple times and visited a couple times. If you’ve never been, go. That’s all I have to say on the matter. It’s a neat place with so many different things going on. Let’s try this one!', 'The noodle block.', 'A dry soup base sachet.', 'A wet sachet of sesame oil.', 'Kung-Fu Oriental Style Instant Noodle Soup Base (Vegeterian Flavor) 3oz (Pack of 20)', 'Watch me cook on Instant Noodle Recipe Time!']</td>\n",
       "    </tr>\n",
       "    <tr>\n",
       "      <th>3</th>\n",
       "      <td>['Oh boy so this should be good – thicker and stronger sauce in this one and it’s traditional Worcestershire style. I think it’s packing Karashi Mayo which is akin to heaven. Let’s find out.', 'The noodle block.', 'Some little bits in the tray.', 'A pretty sizable sachet of yakisoba sauce.', 'Shichimi.', 'Mustard mayo wonderment.', 'Myojo 7Premium Instant Cup Ramen Famous restaurants”Tomita” Tonkotsu Taste 95g (Set of 4cups) Japan Import', 'Watch me cook on Instant Noodle Recipe Time!']</td>\n",
       "    </tr>\n",
       "    <tr>\n",
       "      <th>4</th>\n",
       "      <td>['Simply looking at this bowl evokes memories of travel for me so happy… Penang is such a place of wonder and fascination. The sights, scents and sounds crescendo in a vibrant, harmonic din that haunts my soul in such a way\\xa0 that not a day goes by without a sigh of returning. As the mighty salmon is compelled to return whence it came, so I must return to old Penang someday to experience its charm.', 'Included fork and spoon.', 'The rice vermicelli (bihun).', 'A large paste sachet.', 'A dry sachet of fried onion garnish.']</td>\n",
       "    </tr>\n",
       "  </tbody>\n",
       "</table>\n",
       "</div>"
      ],
      "text/plain": [
       "                                                                                                                                                                                                                                                                                                                                                                                                                                                                                                                                                                                                                                                                                                                                                                                                                                                                reviews\n",
       "0                                                                                                                                                                                                                                    ['This is a brand new variety from Malsyai’s MyKuali. This company’s had three different varieties in the past end up on my global top ten rankings and after trying the vermicelli and cup versions, here we have the pack (you’ll see the other two in upcoming reviews. Let’s give it a try!', 'The noodle block.', 'A dry sachet of non-dairy creamer.', 'A wet paste sachet.', 'A clear dry garnish sachet.', '8-pack MyKuali/Malaysia Best Brand/Penang Prawn Noodle/Strong Prawn Flavor, Thick Hearty Broth Spicy Mouthfeel from Food Heaven, Penang Malaysia (105g/pack)', 'Watch me cook on Instant Noodle Recipe Time!']\n",
       "1  ['I gotta say, there have been a TON of new recipes for this instant noodle. I don’t know how many brands are changing recipes out there, but it’s nice to know when they do. This is something they do in Malaysia, specifically Penang, Malaysia, an awful lot. The folks at MyKuali told me how you might go to a hawker stall one day and have something really great and a week later it’s almost unrecognizable in hopes of having the next super popular food item. Food creators there never seem satisfied with ‘good enough.’ Let’s see what this iteration of the legendary MyKuali Penang White Curry Noodle has to offer.', 'The noodle block.', 'A dry soup base sachet.', 'A dry non-dairy creamer sachet.', 'The enormous white curry paste sachet.', 'MyKuali Penang White Curry Noodle (8 Packs)', 'Watch me cook on Instant Noodle Recipe Time!']\n",
       "2                                                                                                                                                                                                                                                                                                                                                                                                ['I really love Taiwan. I have been through Taiwan a couple times and visited a couple times. If you’ve never been, go. That’s all I have to say on the matter. It’s a neat place with so many different things going on. Let’s try this one!', 'The noodle block.', 'A dry soup base sachet.', 'A wet sachet of sesame oil.', 'Kung-Fu Oriental Style Instant Noodle Soup Base (Vegeterian Flavor) 3oz (Pack of 20)', 'Watch me cook on Instant Noodle Recipe Time!']\n",
       "3                                                                                                                                                                                                                                                                                                                                                           ['Oh boy so this should be good – thicker and stronger sauce in this one and it’s traditional Worcestershire style. I think it’s packing Karashi Mayo which is akin to heaven. Let’s find out.', 'The noodle block.', 'Some little bits in the tray.', 'A pretty sizable sachet of yakisoba sauce.', 'Shichimi.', 'Mustard mayo wonderment.', 'Myojo 7Premium Instant Cup Ramen Famous restaurants”Tomita” Tonkotsu Taste 95g (Set of 4cups) Japan Import', 'Watch me cook on Instant Noodle Recipe Time!']\n",
       "4                                                                                                                                                                                                                                                                                                                    ['Simply looking at this bowl evokes memories of travel for me so happy… Penang is such a place of wonder and fascination. The sights, scents and sounds crescendo in a vibrant, harmonic din that haunts my soul in such a way\\xa0 that not a day goes by without a sigh of returning. As the mighty salmon is compelled to return whence it came, so I must return to old Penang someday to experience its charm.', 'Included fork and spoon.', 'The rice vermicelli (bihun).', 'A large paste sachet.', 'A dry sachet of fried onion garnish.']"
      ]
     },
     "execution_count": 3,
     "metadata": {},
     "output_type": "execute_result"
    }
   ],
   "source": [
    "pd.set_option('display.max_colwidth', 1000)\n",
    "ramen_2020_rv.head()"
   ]
  },
  {
   "cell_type": "code",
   "execution_count": 18,
   "id": "5fff3d9c-00dc-45db-96a8-f0dbc3cd2ff7",
   "metadata": {},
   "outputs": [
    {
     "data": {
      "text/plain": [
       "reviews    ['Simply looking at this bowl evokes memories of travel for me so happy… Penang is such a place of wonder and fascination. The sights, scents and sounds crescendo in a vibrant, harmonic din that haunts my soul in such a way\\xa0 that not a day goes by without a sigh of returning. As the mighty salmon is compelled to return whence it came, so I must return to old Penang someday to experience its charm.', 'Included fork and spoon.', 'The rice vermicelli (bihun).', 'A large paste sachet.', 'A dry sachet of fried onion garnish.']\n",
       "Name: 4, dtype: object"
      ]
     },
     "execution_count": 18,
     "metadata": {},
     "output_type": "execute_result"
    }
   ],
   "source": [
    "text=ramen_2020_rv.iloc[4]\n",
    "text"
   ]
  },
  {
   "cell_type": "code",
   "execution_count": 25,
   "id": "55cff949-9d87-4d5d-8dfb-e639be5cf3ad",
   "metadata": {},
   "outputs": [],
   "source": [
    "text=\"['Simply looking at this bowl evokes memories of travel for me so happy… Penang is such a place of wonder and fascination. The sights, scents and sounds crescendo in a vibrant, harmonic din that haunts my soul in such a way\\xa0 that not a day goes by without a sigh of returning. As the mighty salmon is compelled to return whence it came, so I must return to old Penang someday to experience its charm.', 'Included fork and spoon.', 'The rice vermicelli (bihun).', 'A large paste sachet.', 'A dry sachet of fried onion garnish.'] \"\n",
    "def clean_text(text):\n",
    "    text = re.sub(r\"^\\['\", \"\", text)        # Remove the leading \"['\"\n",
    "    text = re.sub(r\"'\\]\", \"\", text)        # Remove the trailing \"']\"\n",
    "    text = re.sub(r\"',\\s'\", \"\", text)    # Replace ', ' with a space for continuous text\n",
    "    text = re.sub(r\"^'|'$\", \"\", text)     # Remove leading and trailing ' from the string\n",
    "    return text\n",
    "ramen_2020_rv.loc[:,'reviews']=ramen_2020_rv['reviews'].apply(clean_text)"
   ]
  },
  {
   "cell_type": "code",
   "execution_count": 31,
   "id": "712c8b56-18c0-48e8-b1e2-8fc0cfc7dfa2",
   "metadata": {},
   "outputs": [
    {
     "data": {
      "text/html": [
       "<div>\n",
       "<style scoped>\n",
       "    .dataframe tbody tr th:only-of-type {\n",
       "        vertical-align: middle;\n",
       "    }\n",
       "\n",
       "    .dataframe tbody tr th {\n",
       "        vertical-align: top;\n",
       "    }\n",
       "\n",
       "    .dataframe thead th {\n",
       "        text-align: right;\n",
       "    }\n",
       "</style>\n",
       "<table border=\"1\" class=\"dataframe\">\n",
       "  <thead>\n",
       "    <tr style=\"text-align: right;\">\n",
       "      <th></th>\n",
       "      <th>reviews</th>\n",
       "    </tr>\n",
       "  </thead>\n",
       "  <tbody>\n",
       "    <tr>\n",
       "      <th>94</th>\n",
       "      <td>Here’s an export variety from Paldo. The other day I tried out the Mr. Kimchi with broth – this one has no broth. Sounds good – let’s hit it!The noodle block.A wet sauce sachet.A dry vegetables sachet.Teumsae Ramen(빨계떡) Bag- 4.23 Oz 5 PacksWatch me cook on Instant Noodle Recipe Time!</td>\n",
       "    </tr>\n",
       "    <tr>\n",
       "      <th>95</th>\n",
       "      <td>Well here’s something interesting. A big bowl from China! Burning! Spicy! Hot! Man, I hope this one is good – let’s find out!An included fork!The noodle block.A dry sachet – guessing perhaps sesame seeds.A wet sachet.Both sides of a large wet sachet.YiBin Burning Noodle (Spicy) 130gWatch me cook on Instant Noodle Recipe Time!</td>\n",
       "    </tr>\n",
       "    <tr>\n",
       "      <th>96</th>\n",
       "      <td>Here’s what they had to say on this one – “This is the first Kanisuki ramen from Wa-raa series. Kanisuki is one of the nabe dishes, and is usually enjoyed as you cook crabs and vegetables (Chinese cabbages, garland chrysanthemum, and Shiitake mushrooms) in soy sauce and kelp based broth soup. The soup includes extract from Hokkaido snow crab, which sounds very rich in flavor. After eating it, and if you still have some soup left in the cup, some people cook the rest of the soup in a pot with some cooked rice together and it becomes a nice porridge.”You know, I remember having seafood steampot and hot pot in Taiwan where at the end of the meal we enjoyed rice that my buddies wife stirred and stirred and made this kind of congee style last treat from. Super good stuff. Let’s give it a try!The noodle block.Loose seasoning and bits from the cup.Sapporo most curry ramen 5 meals PWatch me cook on Instant Noodle Recipe Time!</td>\n",
       "    </tr>\n",
       "    <tr>\n",
       "      <th>97</th>\n",
       "      <td>The Real Canadian Superstore up in Richmond, BC had tons of these in cups, bowls and packs. Like mountains of them. So far, I’ve found the varieties I’ve tried to be quite enjoyable. Let’s give this one a try!The noodle block.A dry soup base sachet.Chicken Soup for the Soul: The Spirit of Canada: 101 StoriesWatch me cook on Instant Noodle Recipe Time!</td>\n",
       "    </tr>\n",
       "    <tr>\n",
       "      <th>98</th>\n",
       "      <td>Here’s what they have to say about this one – “This simple shoyu wantan noodle is chicken and vegetable based broth infused with a taste of ginger to give you clear and smoth aftertaste. After pouring hot water, placing the liquid soup pouch on top of the lid to warm it up is recommended. You have to keep this bowl covered for 5 minutes in order to cook those wantan. Once it is cooked, if you want to be creative, we’d sprinkle some chopped scallions on top before eating!”I think I’ll do the same. Let’s give this wantanmen a try!The noodle block.A wet sachet of soup base.A grip of wantan!Maruchan QTTA 2.8oz 2Type × 4pcs Fried Chicken And Hamburger Japaneese Instant Noodle Cup Ramen Toyosuisan NinjapoWatch me cook on Instant Noodle Recipe Time!</td>\n",
       "    </tr>\n",
       "  </tbody>\n",
       "</table>\n",
       "</div>"
      ],
      "text/plain": [
       "                                                                                                                                                                                                                                                                                                                                                                                                                                                                                                                                                                                                                                                                                                                                                                                                                                                                                                                                                                reviews\n",
       "94                                                                                                                                                                                                                                                                                                                                                                                                                                                                                                                                                                                                                                                                         Here’s an export variety from Paldo. The other day I tried out the Mr. Kimchi with broth – this one has no broth. Sounds good – let’s hit it!The noodle block.A wet sauce sachet.A dry vegetables sachet.Teumsae Ramen(빨계떡) Bag- 4.23 Oz 5 PacksWatch me cook on Instant Noodle Recipe Time!\n",
       "95                                                                                                                                                                                                                                                                                                                                                                                                                                                                                                                                                                                                                              Well here’s something interesting. A big bowl from China! Burning! Spicy! Hot! Man, I hope this one is good – let’s find out!An included fork!The noodle block.A dry sachet – guessing perhaps sesame seeds.A wet sachet.Both sides of a large wet sachet.YiBin Burning Noodle (Spicy) 130gWatch me cook on Instant Noodle Recipe Time!\n",
       "96  Here’s what they had to say on this one – “This is the first Kanisuki ramen from Wa-raa series. Kanisuki is one of the nabe dishes, and is usually enjoyed as you cook crabs and vegetables (Chinese cabbages, garland chrysanthemum, and Shiitake mushrooms) in soy sauce and kelp based broth soup. The soup includes extract from Hokkaido snow crab, which sounds very rich in flavor. After eating it, and if you still have some soup left in the cup, some people cook the rest of the soup in a pot with some cooked rice together and it becomes a nice porridge.”You know, I remember having seafood steampot and hot pot in Taiwan where at the end of the meal we enjoyed rice that my buddies wife stirred and stirred and made this kind of congee style last treat from. Super good stuff. Let’s give it a try!The noodle block.Loose seasoning and bits from the cup.Sapporo most curry ramen 5 meals PWatch me cook on Instant Noodle Recipe Time!\n",
       "97                                                                                                                                                                                                                                                                                                                                                                                                                                                                                                                                                                                                    The Real Canadian Superstore up in Richmond, BC had tons of these in cups, bowls and packs. Like mountains of them. So far, I’ve found the varieties I’ve tried to be quite enjoyable. Let’s give this one a try!The noodle block.A dry soup base sachet.Chicken Soup for the Soul: The Spirit of Canada: 101 StoriesWatch me cook on Instant Noodle Recipe Time!\n",
       "98                                                                                                                                                                                     Here’s what they have to say about this one – “This simple shoyu wantan noodle is chicken and vegetable based broth infused with a taste of ginger to give you clear and smoth aftertaste. After pouring hot water, placing the liquid soup pouch on top of the lid to warm it up is recommended. You have to keep this bowl covered for 5 minutes in order to cook those wantan. Once it is cooked, if you want to be creative, we’d sprinkle some chopped scallions on top before eating!”I think I’ll do the same. Let’s give this wantanmen a try!The noodle block.A wet sachet of soup base.A grip of wantan!Maruchan QTTA 2.8oz 2Type × 4pcs Fried Chicken And Hamburger Japaneese Instant Noodle Cup Ramen Toyosuisan NinjapoWatch me cook on Instant Noodle Recipe Time!"
      ]
     },
     "execution_count": 31,
     "metadata": {},
     "output_type": "execute_result"
    }
   ],
   "source": [
    "ramen_2020_rv.tail()"
   ]
  },
  {
   "cell_type": "code",
   "execution_count": 32,
   "id": "7f703c21-015d-4bd2-a77a-829a8e74b23d",
   "metadata": {},
   "outputs": [],
   "source": [
    "ramen_2020_rv.to_csv('ramen_2020_rv_cleaned.csv',index=False)"
   ]
  },
  {
   "cell_type": "code",
   "execution_count": null,
   "id": "523e0731-b8ed-4511-8cf7-290a21c5dd3d",
   "metadata": {},
   "outputs": [],
   "source": []
  }
 ],
 "metadata": {
  "kernelspec": {
   "display_name": "Python 3 (ipykernel)",
   "language": "python",
   "name": "python3"
  },
  "language_info": {
   "codemirror_mode": {
    "name": "ipython",
    "version": 3
   },
   "file_extension": ".py",
   "mimetype": "text/x-python",
   "name": "python",
   "nbconvert_exporter": "python",
   "pygments_lexer": "ipython3",
   "version": "3.9.19"
  }
 },
 "nbformat": 4,
 "nbformat_minor": 5
}
